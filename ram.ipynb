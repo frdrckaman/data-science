{
 "cells": [
  {
   "cell_type": "code",
   "execution_count": 44,
   "outputs": [
    {
     "data": {
      "text/plain": "346    1.0\n383    NaN\n488    NaN\n490    NaN\n831    NaN\nName: W9_a, dtype: float64"
     },
     "execution_count": 44,
     "metadata": {},
     "output_type": "execute_result"
    }
   ],
   "source": [
    "import pandas as pd\n",
    "import numpy as np\n",
    "\n",
    "np.random.randint(0, 2)\n",
    "\n",
    "df = pd.read_excel('bbc.xlsx')\n",
    "df1 = df.copy()\n",
    "# df['W9'].head()\n",
    "df1['W9'].head()\n",
    "#\n",
    "if df1['W9_b'].isnull().values.any():\n",
    "    # print(df1['W9'].isnull.sum())\n",
    "    # df1.replace(df1['W9_b'], '', inplace=True)\n",
    "    df1.drop(df1[df1['W9_b'] == df1['W9_b']].index, inplace = True)\n",
    "\n",
    "df1['W9_a'].head()\n",
    "\n",
    "# df1.to_excel(\"output.xlsx\")\n",
    "\n"
   ],
   "metadata": {
    "collapsed": false,
    "pycharm": {
     "name": "#%%\n"
    }
   }
  },
  {
   "cell_type": "code",
   "execution_count": null,
   "outputs": [],
   "source": [],
   "metadata": {
    "collapsed": false,
    "pycharm": {
     "name": "#%%\n"
    }
   }
  }
 ],
 "metadata": {
  "kernelspec": {
   "display_name": "Python 3",
   "language": "python",
   "name": "python3"
  },
  "language_info": {
   "codemirror_mode": {
    "name": "ipython",
    "version": 2
   },
   "file_extension": ".py",
   "mimetype": "text/x-python",
   "name": "python",
   "nbconvert_exporter": "python",
   "pygments_lexer": "ipython2",
   "version": "2.7.6"
  }
 },
 "nbformat": 4,
 "nbformat_minor": 0
}