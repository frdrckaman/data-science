{
 "cells": [
  {
   "cell_type": "code",
   "execution_count": 1,
   "metadata": {
    "collapsed": true
   },
   "outputs": [
    {
     "name": "stdout",
     "output_type": "stream",
     "text": [
      "edges = 88234\n",
      "nodes = 4039\n",
      "rgraph_edges = 88509\n",
      "av_clust_coeff = 0.6055467186200876\n",
      "rgraph_acc = 0.010823025846715663\n"
     ]
    },
    {
     "data": {
      "text/plain": "0.010819963503439287"
     },
     "execution_count": 1,
     "metadata": {},
     "output_type": "execute_result"
    }
   ],
   "source": [
    "import networkx as nx;\n",
    "from random import random;\n",
    "\n",
    "# Read data from the dataset, and create graph G_fb\n",
    "G_fb = nx.read_edgelist(\"assets/facebook_combined.txt\", create_using = nx.Graph(), nodetype=int);\n",
    "\n",
    "# Show the number of edges in G_fb\n",
    "print(\"edges = \" + str(G_fb.number_of_edges()));\n",
    "\n",
    "# Show number of nodes in G_fb\n",
    "print(\"nodes = \" + str(G_fb.number_of_nodes()));\n",
    "\n",
    "# TASK1. Now your task is to compute the probability whether there is an edge between two vertices.\n",
    "edge_probab = G_fb.number_of_edges() / ((G_fb.number_of_nodes() * (G_fb.number_of_nodes()-1))/2)\n",
    "\n",
    "# TASK2. Compute the ACC (average clustering coefficient) of G_fb\n",
    "# (consult the NetworkX manual or the video lecture for the correct function which does it)\n",
    "av_clust_coeff =  nx.average_clustering(G_fb)\n",
    "\n",
    "\n",
    "# Now we have to generate a random graph. First we initialize it\n",
    "#G_rand = nx.Graph();\n",
    "\n",
    "\n",
    "\n",
    "# TASK3. generate edges in G_rand at random:\n",
    "#for i in range(0,k) :\n",
    "#    for j in range(0,i) :\n",
    "#        # Add an edge between vertices i and j, with probability edge_probab (as in G_fb)\n",
    "#        G_rand.add_edge(i, j)\n",
    "G_rand = nx.erdos_renyi_graph(G_fb.number_of_nodes(), edge_probab, seed=None, directed=False)\n",
    "\n",
    "# Now we print out the number of edges and the ACC of the new graph\n",
    "print(\"rgraph_edges = \" + str(G_rand.number_of_edges()));\n",
    "\n",
    "rgraph_acc  = nx.average_clustering(G_rand)\n",
    "\n",
    "print(\"av_clust_coeff = \" + str(av_clust_coeff));\n",
    "print(\"rgraph_acc = \" + str(rgraph_acc));\n",
    "# The results which should be submitted to the grader include the ACC of G_fb and of G_rand. Good luck!\n",
    "edge_probab"
   ]
  },
  {
   "cell_type": "code",
   "execution_count": 44,
   "outputs": [
    {
     "data": {
      "text/plain": "['CD', 'DD', 'DF', 'SD', 'DD', 'FF', 'SS', 'SD', 'CB', 'SD']"
     },
     "execution_count": 44,
     "metadata": {},
     "output_type": "execute_result"
    }
   ],
   "source": [
    "import re\n",
    "\n",
    "def result():\n",
    "    s = 'ACAABAACAAABACDBADDDFSDDDFFSSSASDAFAAACBAAAFASD'\n",
    "\n",
    "    result = []\n",
    "    # compete the pattern below\n",
    "    pattern = '[B-Z]{1}[^AAA]'\n",
    "    for item in re.finditer(pattern, s):\n",
    "      # identify the group number below.\n",
    "      result.append(item.group())\n",
    "\n",
    "    return result\n",
    "\n",
    "result()"
   ],
   "metadata": {
    "collapsed": false,
    "pycharm": {
     "name": "#%%\n"
    }
   }
  }
 ],
 "metadata": {
  "kernelspec": {
   "name": "pycharm-d1a0db0c",
   "language": "python",
   "display_name": "PyCharm (data-analysis)"
  },
  "language_info": {
   "codemirror_mode": {
    "name": "ipython",
    "version": 2
   },
   "file_extension": ".py",
   "mimetype": "text/x-python",
   "name": "python",
   "nbconvert_exporter": "python",
   "pygments_lexer": "ipython2",
   "version": "2.7.6"
  }
 },
 "nbformat": 4,
 "nbformat_minor": 0
}