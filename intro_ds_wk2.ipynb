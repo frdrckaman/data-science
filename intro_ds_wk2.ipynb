{
 "cells": [
  {
   "cell_type": "code",
   "execution_count": 2,
   "metadata": {
    "collapsed": true,
    "pycharm": {
     "name": "#%%\n"
    }
   },
   "outputs": [
    {
     "data": {
      "text/plain": "{'less than high school': 0.10202002459160373,\n 'high school': 0.172352011241876,\n 'more than high school but not college': 0.24588090637625154,\n 'college': 0.47974705779026877}"
     },
     "execution_count": 2,
     "metadata": {},
     "output_type": "execute_result"
    }
   ],
   "source": [
    "def proportion_of_education():\n",
    "    import pandas as pd\n",
    "    import numpy as np\n",
    "    df = pd.read_csv(\"assets/NISPUF17.csv\", index_col=0)\n",
    "    EDUS=df['EDUC1']\n",
    "    edus=np.sort(EDUS.values)\n",
    "    poe={\"less than high school\":0,\n",
    "        \"high school\":0,\n",
    "        \"more than high school but not college\":0,\n",
    "        \"college\":0}\n",
    "    n=len(edus)\n",
    "    poe[\"less than high school\"]=np.sum(edus==1)/n\n",
    "    poe[\"high school\"]=np.sum(edus==2)/n\n",
    "    poe[\"more than high school but not college\"]=np.sum(edus==3)/n\n",
    "    poe[\"college\"]=np.sum(edus==4)/n\n",
    "    return poe\n",
    "\n",
    "proportion_of_education()"
   ]
  },
  {
   "cell_type": "code",
   "execution_count": 3,
   "outputs": [
    {
     "data": {
      "text/plain": "(1.8799187420058687, 1.5963945918878317)"
     },
     "execution_count": 3,
     "metadata": {},
     "output_type": "execute_result"
    }
   ],
   "source": [
    "def average_influenza_doses():\n",
    "    import pandas as pd\n",
    "    import numpy as np\n",
    "    df = pd.read_csv(\"assets/NISPUF17.csv\", index_col=0)\n",
    "\n",
    "    cbf_flu=df.loc[:,['CBF_01','P_NUMFLU']]\n",
    "\n",
    "\n",
    "    cbf_flu1=cbf_flu[cbf_flu['CBF_01'] ==1].dropna()\n",
    "    cbf_flu2=cbf_flu[cbf_flu['CBF_01'] ==2].dropna()\n",
    "\n",
    "    flu1=cbf_flu1['P_NUMFLU'].values.copy()\n",
    "    flu1[np.isnan(flu1)] = 0\n",
    "    f1=np.sum(flu1)/len(flu1)\n",
    "\n",
    "    flu2=cbf_flu2['P_NUMFLU'].values.copy()\n",
    "    flu2[np.isnan(flu2)] = 0\n",
    "    f2=np.sum(flu2)/len(flu2)\n",
    "\n",
    "    aid =(f1,f2)\n",
    "    return aid\n",
    "\n",
    "average_influenza_doses()"
   ],
   "metadata": {
    "collapsed": false,
    "pycharm": {
     "name": "#%%\n"
    }
   }
  },
  {
   "cell_type": "code",
   "execution_count": 4,
   "outputs": [
    {
     "data": {
      "text/plain": "{'male': 0.009675583380762664, 'female': 0.0077918259335489565}"
     },
     "execution_count": 4,
     "metadata": {},
     "output_type": "execute_result"
    }
   ],
   "source": [
    "def chickenpox_by_sex():\n",
    "    import pandas as pd\n",
    "    df = pd.read_csv(\"assets/NISPUF17.csv\", index_col=0)\n",
    "\n",
    "    cpo_sex=df[df['P_NUMVRC'].gt(0) & df['HAD_CPOX'].lt(3)].loc[:,['HAD_CPOX','SEX']]\n",
    "\n",
    "    cpo1_sex1=len(cpo_sex[(cpo_sex['HAD_CPOX']==1) & (cpo_sex['SEX']==1)])\n",
    "    cpo1_sex2=len(cpo_sex[(cpo_sex['HAD_CPOX']==1) & (cpo_sex['SEX']==2)])\n",
    "    cpo2_sex1=len(cpo_sex[(cpo_sex['HAD_CPOX']==2) & (cpo_sex['SEX']==1)])\n",
    "    cpo2_sex2=len(cpo_sex[(cpo_sex['HAD_CPOX']==2) & (cpo_sex['SEX']==2)])\n",
    "\n",
    "    cbs={\"male\":0, \"female\":0}\n",
    "    cbs['male']=cpo1_sex1/cpo2_sex1\n",
    "    cbs['female']=cpo1_sex2/cpo2_sex2\n",
    "    return cbs\n",
    "\n",
    "chickenpox_by_sex()"
   ],
   "metadata": {
    "collapsed": false,
    "pycharm": {
     "name": "#%%\n"
    }
   }
  },
  {
   "cell_type": "code",
   "execution_count": 5,
   "outputs": [
    {
     "data": {
      "text/plain": "0.07044873460147986"
     },
     "execution_count": 5,
     "metadata": {},
     "output_type": "execute_result"
    }
   ],
   "source": [
    "def corr_chickenpox():\n",
    "    import scipy.stats as stats\n",
    "    import numpy as np\n",
    "    import pandas as pd\n",
    "\n",
    "    df = pd.read_csv(\"assets/NISPUF17.csv\", index_col=0)\n",
    "\n",
    "    df=df[df['HAD_CPOX'].lt(3)].loc[:,['HAD_CPOX','P_NUMVRC']].dropna()\n",
    "    df.columns=['had_chickenpox_column','num_chickenpox_vaccine_column']\n",
    "    corr, pval=stats.pearsonr(df[\"had_chickenpox_column\"],df[\"num_chickenpox_vaccine_column\"])\n",
    "\n",
    "    return corr\n",
    "\n",
    "corr_chickenpox()"
   ],
   "metadata": {
    "collapsed": false,
    "pycharm": {
     "name": "#%%\n"
    }
   }
  }
 ],
 "metadata": {
  "kernelspec": {
   "name": "pycharm-d1a0db0c",
   "language": "python",
   "display_name": "PyCharm (data-analysis)"
  },
  "language_info": {
   "codemirror_mode": {
    "name": "ipython",
    "version": 2
   },
   "file_extension": ".py",
   "mimetype": "text/x-python",
   "name": "python",
   "nbconvert_exporter": "python",
   "pygments_lexer": "ipython2",
   "version": "2.7.6"
  }
 },
 "nbformat": 4,
 "nbformat_minor": 0
}