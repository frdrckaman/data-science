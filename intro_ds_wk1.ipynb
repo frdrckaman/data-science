{
 "cells": [
  {
   "cell_type": "code",
   "execution_count": 2,
   "metadata": {
    "collapsed": true,
    "pycharm": {
     "name": "#%%\n"
    }
   },
   "outputs": [
    {
     "data": {
      "text/plain": "['Amy', 'Mary', 'Ruth', 'Peter']"
     },
     "execution_count": 2,
     "metadata": {},
     "output_type": "execute_result"
    }
   ],
   "source": [
    "import re\n",
    "def names():\n",
    "    simple_string = \"\"\"Amy is 5 years old, and her sister Mary is 2 years old.\n",
    "    Ruth and Peter, their parents, have 3 kids.\"\"\"\n",
    "\n",
    "    return re.findall('[A-Z][\\w]{1,4}', simple_string)\n",
    "names()"
   ]
  },
  {
   "cell_type": "code",
   "execution_count": 3,
   "outputs": [
    {
     "data": {
      "text/plain": "['Bell Kassulke',\n 'Simon Loidl',\n 'Elias Jovanovic',\n 'Hakim Botros',\n 'Emilie Lorentsen',\n 'Jake Wood',\n 'Fatemeh Akhtar',\n 'Kim Weston',\n 'Yasmin Dar',\n 'Viswamitra Upandhye',\n 'Killian Kaufman',\n 'Elwood Page',\n 'Elodie Booker',\n 'Adnan Chen',\n 'Hank Spinka',\n 'Hannah Bayer']"
     },
     "execution_count": 3,
     "metadata": {},
     "output_type": "execute_result"
    }
   ],
   "source": [
    "import re\n",
    "def grades():\n",
    "    with open (\"assets/grades.txt\", \"r\") as file:\n",
    "        grades = file.read()\n",
    "\n",
    "    pattern = \"[\\w]*\\ [\\w]*(?=:\\ B)\"\n",
    "    return re.findall(pattern, grades)\n",
    "\n",
    "grades()"
   ],
   "metadata": {
    "collapsed": false,
    "pycharm": {
     "name": "#%%\n"
    }
   }
  },
  {
   "cell_type": "code",
   "execution_count": 5,
   "outputs": [
    {
     "data": {
      "text/plain": "979"
     },
     "execution_count": 5,
     "metadata": {},
     "output_type": "execute_result"
    }
   ],
   "source": [
    "import re\n",
    "def logs():\n",
    "    with open(\"assets/logdata.txt\", \"r\") as file:\n",
    "        logdata = file.read()\n",
    "\n",
    "    pattern = \"\"\"\n",
    "    (?P<host>[\\d]*.[\\d]*.[\\d]*.[\\d]*)\n",
    "    (\\ -\\ )\n",
    "    (?P<user_name>[\\w-]*)\n",
    "    (\\ \\[)\n",
    "    (?P<time>\\w*/\\w*/.*)\n",
    "    (\\]\\ \\\")\n",
    "    (?P<request>.*)\n",
    "    (\")\n",
    "    \"\"\"\n",
    "    result = []\n",
    "    for item in re.finditer(pattern, logdata, re.VERBOSE):\n",
    "        result.append(item.groupdict())\n",
    "    return result\n",
    "\n",
    "len(logs())"
   ],
   "metadata": {
    "collapsed": false,
    "pycharm": {
     "name": "#%%\n"
    }
   }
  },
  {
   "cell_type": "code",
   "execution_count": 100,
   "outputs": [
    {
     "name": "stdout",
     "output_type": "stream",
     "text": [
      "Pfs01-001\n",
      "Pfs01-002\n",
      "Pfs01-003\n",
      "Pfs01-004\n",
      "Pfs01-005\n",
      "Pfs01-006\n",
      "Pfs01-007\n",
      "Pfs01-008\n",
      "Pfs01-009\n",
      "Pfs01-010\n",
      "Pfs01-011\n",
      "Pfs01-012\n",
      "Pfs01-013\n",
      "Pfs01-014\n",
      "Pfs01-015\n",
      "Pfs01-016\n",
      "Pfs01-017\n",
      "Pfs01-018\n",
      "Pfs01-019\n",
      "Pfs01-020\n",
      "Pfs01-021\n",
      "Pfs01-022\n",
      "Pfs01-023\n",
      "Pfs01-024\n",
      "Pfs01-025\n",
      "Pfs01-026\n",
      "Pfs01-027\n",
      "Pfs01-028\n",
      "Pfs01-029\n",
      "Pfs01-030\n",
      "Pfs01-031\n",
      "Pfs02-049\n",
      "Pfs02-032\n",
      "Pfs02-033\n",
      "Pfs02-034\n",
      "Pfs02-035\n",
      "Pfs02-036\n",
      "Pfs02-037\n",
      "Pfs02-038\n",
      "Pfs02-039\n",
      "Pfs02-040\n",
      "Pfs02-041\n",
      "Pfs02-042\n",
      "Pfs02-043\n",
      "Pfs02-044\n",
      "Pfs02-045\n",
      "Pfs02-046\n",
      "Pfs02-047\n",
      "Pfs02-048\n",
      "Pfs02-050\n"
     ]
    }
   ],
   "source": [
    "import pandas as pd\n",
    "\n",
    "df = pd.read_csv(\"/home/frdrck/Downloads/SC1_2021_10_06.csv\", index_col='id')\n",
    "df = pd.DataFrame(df)\n",
    "fr = pd.isna(df[' mhdate_E1_C1 '])\n",
    "\n",
    "for idx in fr.index:\n",
    "    print(idx)\n"
   ],
   "metadata": {
    "collapsed": false,
    "pycharm": {
     "name": "#%%\n"
    }
   }
  }
 ],
 "metadata": {
  "kernelspec": {
   "name": "pycharm-d1a0db0c",
   "language": "python",
   "display_name": "PyCharm (data-analysis)"
  },
  "language_info": {
   "codemirror_mode": {
    "name": "ipython",
    "version": 2
   },
   "file_extension": ".py",
   "mimetype": "text/x-python",
   "name": "python",
   "nbconvert_exporter": "python",
   "pygments_lexer": "ipython2",
   "version": "2.7.6"
  }
 },
 "nbformat": 4,
 "nbformat_minor": 0
}