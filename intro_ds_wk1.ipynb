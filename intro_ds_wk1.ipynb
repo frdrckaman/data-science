{
 "cells": [
  {
   "cell_type": "code",
   "execution_count": 2,
   "metadata": {
    "collapsed": true,
    "pycharm": {
     "name": "#%%\n"
    }
   },
   "outputs": [
    {
     "data": {
      "text/plain": "['Amy', 'Mary', 'Ruth', 'Peter']"
     },
     "execution_count": 2,
     "metadata": {},
     "output_type": "execute_result"
    }
   ],
   "source": [
    "import re\n",
    "def names():\n",
    "    simple_string = \"\"\"Amy is 5 years old, and her sister Mary is 2 years old.\n",
    "    Ruth and Peter, their parents, have 3 kids.\"\"\"\n",
    "\n",
    "    return re.findall('[A-Z][\\w]{1,4}', simple_string)\n",
    "names()"
   ]
  },
  {
   "cell_type": "code",
   "execution_count": 3,
   "outputs": [
    {
     "data": {
      "text/plain": "['Bell Kassulke',\n 'Simon Loidl',\n 'Elias Jovanovic',\n 'Hakim Botros',\n 'Emilie Lorentsen',\n 'Jake Wood',\n 'Fatemeh Akhtar',\n 'Kim Weston',\n 'Yasmin Dar',\n 'Viswamitra Upandhye',\n 'Killian Kaufman',\n 'Elwood Page',\n 'Elodie Booker',\n 'Adnan Chen',\n 'Hank Spinka',\n 'Hannah Bayer']"
     },
     "execution_count": 3,
     "metadata": {},
     "output_type": "execute_result"
    }
   ],
   "source": [
    "import re\n",
    "def grades():\n",
    "    with open (\"assets/grades.txt\", \"r\") as file:\n",
    "        grades = file.read()\n",
    "\n",
    "    pattern = \"[\\w]*\\ [\\w]*(?=:\\ B)\"\n",
    "    return re.findall(pattern, grades)\n",
    "\n",
    "grades()"
   ],
   "metadata": {
    "collapsed": false,
    "pycharm": {
     "name": "#%%\n"
    }
   }
  },
  {
   "cell_type": "code",
   "execution_count": 5,
   "outputs": [
    {
     "data": {
      "text/plain": "979"
     },
     "execution_count": 5,
     "metadata": {},
     "output_type": "execute_result"
    }
   ],
   "source": [
    "import re\n",
    "def logs():\n",
    "    with open(\"assets/logdata.txt\", \"r\") as file:\n",
    "        logdata = file.read()\n",
    "\n",
    "    pattern = \"\"\"\n",
    "    (?P<host>[\\d]*.[\\d]*.[\\d]*.[\\d]*)\n",
    "    (\\ -\\ )\n",
    "    (?P<user_name>[\\w-]*)\n",
    "    (\\ \\[)\n",
    "    (?P<time>\\w*/\\w*/.*)\n",
    "    (\\]\\ \\\")\n",
    "    (?P<request>.*)\n",
    "    (\")\n",
    "    \"\"\"\n",
    "    result = []\n",
    "    for item in re.finditer(pattern, logdata, re.VERBOSE):\n",
    "        result.append(item.groupdict())\n",
    "    return result\n",
    "\n",
    "len(logs())"
   ],
   "metadata": {
    "collapsed": false,
    "pycharm": {
     "name": "#%%\n"
    }
   }
  }
 ],
 "metadata": {
  "kernelspec": {
   "name": "pycharm-d1a0db0c",
   "language": "python",
   "display_name": "PyCharm (data-analysis)"
  },
  "language_info": {
   "codemirror_mode": {
    "name": "ipython",
    "version": 2
   },
   "file_extension": ".py",
   "mimetype": "text/x-python",
   "name": "python",
   "nbconvert_exporter": "python",
   "pygments_lexer": "ipython2",
   "version": "2.7.6"
  }
 },
 "nbformat": 4,
 "nbformat_minor": 0
}